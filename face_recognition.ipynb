{
 "cells": [
  {
   "cell_type": "markdown",
   "metadata": {
    "colab_type": "text",
    "id": "view-in-github"
   },
   "source": [
    "<a href=\"https://colab.research.google.com/github/khaledrefai/face_recognition/blob/master/face_recognition.ipynb\" target=\"_parent\"><img src=\"https://colab.research.google.com/assets/colab-badge.svg\" alt=\"Open In Colab\"/></a>"
   ]
  },
  {
   "cell_type": "code",
   "execution_count": 1,
   "metadata": {
    "colab": {
     "base_uri": "https://localhost:8080/",
     "height": 34
    },
    "colab_type": "code",
    "id": "KCmx-fEtktPJ",
    "outputId": "417fc834-acbd-4eaf-ff73-61c58df27084"
   },
   "outputs": [
    {
     "name": "stdout",
     "output_type": "stream",
     "text": [
      "Requirement already satisfied: cmake in c:\\users\\khaled\\anaconda3\\lib\\site-packages (3.13.3)\n"
     ]
    }
   ],
   "source": [
    "!pip install cmake"
   ]
  },
  {
   "cell_type": "code",
   "execution_count": 2,
   "metadata": {
    "colab": {
     "base_uri": "https://localhost:8080/",
     "height": 51
    },
    "colab_type": "code",
    "id": "wpgqRKF4C8C3",
    "outputId": "7cc954b7-65b6-4194-d0f8-7bb92936183e"
   },
   "outputs": [
    {
     "name": "stdout",
     "output_type": "stream",
     "text": [
      "Requirement already satisfied: opencv-python in c:\\users\\khaled\\anaconda3\\lib\\site-packages (4.0.0.21)\n",
      "Requirement already satisfied: numpy>=1.14.5 in c:\\users\\khaled\\anaconda3\\lib\\site-packages (from opencv-python) (1.15.4)\n"
     ]
    }
   ],
   "source": [
    "!pip install opencv-python"
   ]
  },
  {
   "cell_type": "code",
   "execution_count": 3,
   "metadata": {
    "colab": {
     "base_uri": "https://localhost:8080/",
     "height": 34
    },
    "colab_type": "code",
    "id": "RXrQtWcCkzGh",
    "outputId": "ac64031b-700d-4b90-98bd-5af9dd8ec48f"
   },
   "outputs": [
    {
     "name": "stdout",
     "output_type": "stream",
     "text": [
      "Collecting dlib\n",
      "  Using cached https://files.pythonhosted.org/packages/35/8d/e4ddf60452e2fb1ce3164f774e68968b3f110f1cb4cd353235d56875799e/dlib-19.16.0.tar.gz\n",
      "Building wheels for collected packages: dlib\n",
      "  Running setup.py bdist_wheel for dlib: started\n",
      "  Running setup.py bdist_wheel for dlib: still running...\n",
      "  Running setup.py bdist_wheel for dlib: still running...\n",
      "  Running setup.py bdist_wheel for dlib: still running...\n",
      "  Running setup.py bdist_wheel for dlib: still running...\n",
      "  Running setup.py bdist_wheel for dlib: still running...\n",
      "  Running setup.py bdist_wheel for dlib: still running...\n",
      "  Running setup.py bdist_wheel for dlib: still running...\n",
      "  Running setup.py bdist_wheel for dlib: still running...\n",
      "  Running setup.py bdist_wheel for dlib: still running...\n",
      "  Running setup.py bdist_wheel for dlib: still running...\n",
      "  Running setup.py bdist_wheel for dlib: still running...\n",
      "  Running setup.py bdist_wheel for dlib: still running...\n",
      "  Running setup.py bdist_wheel for dlib: still running...\n",
      "  Running setup.py bdist_wheel for dlib: still running...\n",
      "  Running setup.py bdist_wheel for dlib: still running...\n",
      "  Running setup.py bdist_wheel for dlib: still running...\n",
      "  Running setup.py bdist_wheel for dlib: finished with status 'done'\n",
      "  Stored in directory: C:\\Users\\khaled\\AppData\\Local\\pip\\Cache\\wheels\\ce\\f9\\bc\\1c51cd0b40a2b5dfd46ab79a73832b41e7c3aa918a508154f0\n",
      "Successfully built dlib\n",
      "Installing collected packages: dlib\n",
      "Successfully installed dlib-19.16.0\n"
     ]
    }
   ],
   "source": [
    "!pip install dlib"
   ]
  },
  {
   "cell_type": "code",
   "execution_count": 4,
   "metadata": {
    "colab": {
     "base_uri": "https://localhost:8080/",
     "height": 289
    },
    "colab_type": "code",
    "id": "G1BnsGO6k88R",
    "outputId": "c28ffb08-55f5-482b-fd1f-867155e3649d"
   },
   "outputs": [
    {
     "name": "stdout",
     "output_type": "stream",
     "text": [
      "Collecting face_recognition\n",
      "  Using cached https://files.pythonhosted.org/packages/3f/ed/ad9a28042f373d4633fc8b49109b623597d6f193d3bbbef7780a5ee8eef2/face_recognition-1.2.3-py2.py3-none-any.whl\n",
      "Requirement already satisfied: dlib>=19.7 in c:\\users\\khaled\\anaconda3\\lib\\site-packages (from face_recognition) (19.16.0)\n",
      "Requirement already satisfied: face-recognition-models>=0.3.0 in c:\\users\\khaled\\anaconda3\\lib\\site-packages (from face_recognition) (0.3.0)\n",
      "Requirement already satisfied: Click>=6.0 in c:\\users\\khaled\\anaconda3\\lib\\site-packages (from face_recognition) (7.0)\n",
      "Requirement already satisfied: numpy in c:\\users\\khaled\\anaconda3\\lib\\site-packages (from face_recognition) (1.15.4)\n",
      "Requirement already satisfied: Pillow in c:\\users\\khaled\\anaconda3\\lib\\site-packages (from face_recognition) (5.3.0)\n",
      "Installing collected packages: face-recognition\n",
      "Successfully installed face-recognition-1.2.3\n"
     ]
    }
   ],
   "source": [
    "!pip install face_recognition"
   ]
  },
  {
   "cell_type": "code",
   "execution_count": 5,
   "metadata": {
    "colab": {},
    "colab_type": "code",
    "id": "jTb2pp7KlEQM"
   },
   "outputs": [],
   "source": [
    "import numpy as np\n",
    "import face_recognition\n",
    "import cv2 as cv2 #OpenCV\n",
    "from os import listdir\n",
    "import time\n",
    "import threading"
   ]
  },
  {
   "cell_type": "code",
   "execution_count": 6,
   "metadata": {
    "colab": {},
    "colab_type": "code",
    "id": "kJ045LFNlMq6"
   },
   "outputs": [],
   "source": [
    "facecascade = cv2.CascadeClassifier('d:/haarcascade_frontalface_default.xml')"
   ]
  },
  {
   "cell_type": "code",
   "execution_count": 8,
   "metadata": {
    "colab": {
     "base_uri": "https://localhost:8080/",
     "height": 34
    },
    "colab_type": "code",
    "id": "ulsHLxv-2QCR",
    "outputId": "869ec218-26af-4446-fb74-95daf918df0b"
   },
   "outputs": [
    {
     "name": "stdout",
     "output_type": "stream",
     "text": [
      "employee representations retrieved successfully\n"
     ]
    }
   ],
   "source": [
    "import json\n",
    "\n",
    "#put your employee pictures in this path as name_of_employee.jpg\n",
    "employee_pictures = \"d:/employeephotos/\"\n",
    "\n",
    "known_face_encodings =[]\n",
    "known_face_names =[]\n",
    "\n",
    "for file in listdir(employee_pictures):\n",
    "    employee, extension = file.split(\".\")\n",
    "    img = face_recognition.load_image_file('d:/employeephotos/%s.jpg' % (employee))\n",
    "    #face_location = face_recognition.face_locations(img ,number_of_times_to_upsample=0, model=\"cnn\")\n",
    "    img_encoding = face_recognition.face_encodings(img)[0]\n",
    "    known_face_encodings.append(img_encoding)\n",
    "    known_face_names.append(employee)\n",
    "\n",
    "\n",
    "print('employee representations retrieved successfully')      "
   ]
  },
  {
   "cell_type": "code",
   "execution_count": 9,
   "metadata": {
    "colab": {},
    "colab_type": "code",
    "id": "ib09M2diiJNt"
   },
   "outputs": [],
   "source": [
    "def rescale_frame(frame, percent=75):\n",
    "      width = int(frame.shape[1] * percent/ 100)\n",
    "      height = int(frame.shape[0] * percent/ 100)\n",
    "      dim = (width, height)\n",
    "      return cv2.resize(frame, dim, interpolation =cv2.INTER_AREA) "
   ]
  },
  {
   "cell_type": "code",
   "execution_count": 12,
   "metadata": {
    "colab": {},
    "colab_type": "code",
    "id": "HnTkqP5_Ahov"
   },
   "outputs": [],
   "source": [
    "import requests \n",
    "from IPython.core.display import display, HTML\n",
    "\n",
    "# Initialize some variables\n",
    "face_locations = []\n",
    "face_encodings = []\n",
    "face_names = []\n",
    "process_this_frame = True\n",
    "video_capture = cv2.VideoCapture(0)\n",
    "#video_capture = VideoCaptureAsync(0)\n",
    "#video_capture.start()\n",
    "while True:\n",
    "    # Grab a single frame of video\n",
    "    ret, frame = video_capture.read()\n",
    "    #frame = rescale_frame(frame,50)\n",
    "      \n",
    "    # Convert the image from BGR color (which OpenCV uses) to RGB color (which face_recognition uses)\n",
    "    rgb_frame = frame[:, :, ::-1]\n",
    "    \n",
    "    \n",
    "    # Find all the faces and face enqcodings in the frame of video\n",
    "    face_locations = face_recognition.face_locations(rgb_frame ,number_of_times_to_upsample=0, model=\"cnn\")\n",
    "    face_encodings = face_recognition.face_encodings(rgb_frame, face_locations)\n",
    "\n",
    "    # Loop through each face in this frame of video\n",
    "    for (top, right, bottom, left), face_encoding in zip(face_locations, face_encodings):\n",
    "        # See if the face is a match for the known face(s)\n",
    "        matches = face_recognition.compare_faces(known_face_encodings, face_encoding,0.45)\n",
    "\n",
    "        name = \"Unknown\"\n",
    "\n",
    "        # If a match was found in known_face_encodings, just use the first one.\n",
    "        if True in matches:\n",
    "            first_match_index = matches.index(True)\n",
    "            name = known_face_names[first_match_index]\n",
    "           \n",
    "\n",
    "            \n",
    "        # Draw a box around the face\n",
    "        cv2.rectangle(frame, (left, top), (right, bottom), (0, 0, 255), 2)\n",
    "\n",
    "        # Draw a label with a name below the face\n",
    "        cv2.rectangle(frame, (left, bottom - 35), (right, bottom), (0, 0, 255), cv2.FILLED)\n",
    "        font = cv2.FONT_HERSHEY_DUPLEX\n",
    "        cv2.putText(frame, name, (left + 6, bottom - 6), font, 1.0, (255, 255, 255), 1)\n",
    "\n",
    "    # Display the resulting image\n",
    "    cv2.imshow('Video', frame)\n",
    "\n",
    "    # Hit 'q' on the keyboard to quit!\n",
    "    if cv2.waitKey(1) & 0xFF == ord('q'):\n",
    "        break\n",
    "\n",
    "# Release handle to the webcam\n",
    "video_capture.release()\n",
    "#video_capture.stop()\n",
    "cv2.destroyAllWindows()"
   ]
  },
  {
   "cell_type": "code",
   "execution_count": null,
   "metadata": {},
   "outputs": [],
   "source": []
  }
 ],
 "metadata": {
  "accelerator": "GPU",
  "colab": {
   "collapsed_sections": [],
   "include_colab_link": true,
   "name": "face_recognition.ipynb",
   "provenance": [],
   "version": "0.3.2"
  },
  "kernelspec": {
   "display_name": "Python 3",
   "language": "python",
   "name": "python3"
  },
  "language_info": {
   "codemirror_mode": {
    "name": "ipython",
    "version": 3
   },
   "file_extension": ".py",
   "mimetype": "text/x-python",
   "name": "python",
   "nbconvert_exporter": "python",
   "pygments_lexer": "ipython3",
   "version": "3.7.1"
  }
 },
 "nbformat": 4,
 "nbformat_minor": 1
}
