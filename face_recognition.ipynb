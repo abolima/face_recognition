{
  "nbformat": 4,
  "nbformat_minor": 0,
  "metadata": {
    "colab": {
      "name": "Untitled4.ipynb",
      "version": "0.3.2",
      "provenance": [],
      "include_colab_link": true
    },
    "kernelspec": {
      "name": "python3",
      "display_name": "Python 3"
    },
    "accelerator": "GPU"
  },
  "cells": [
    {
      "cell_type": "markdown",
      "metadata": {
        "id": "view-in-github",
        "colab_type": "text"
      },
      "source": [
        "<a href=\"https://colab.research.google.com/github/abolima/face_recognition/blob/master/face_recognition.ipynb\" target=\"_parent\"><img src=\"https://colab.research.google.com/assets/colab-badge.svg\" alt=\"Open In Colab\"/></a>"
      ]
    },
    {
      "metadata": {
        "id": "KCmx-fEtktPJ",
        "colab_type": "code",
        "outputId": "76d2a29e-fb7b-4c98-c371-cbc32b10dfeb",
        "colab": {
          "base_uri": "https://localhost:8080/",
          "height": 34
        }
      },
      "cell_type": "code",
      "source": [
        "!pip install cmake"
      ],
      "execution_count": 0,
      "outputs": [
        {
          "output_type": "stream",
          "text": [
            "Requirement already satisfied: cmake in /usr/local/lib/python3.6/dist-packages (3.12.0)\n"
          ],
          "name": "stdout"
        }
      ]
    },
    {
      "metadata": {
        "id": "RXrQtWcCkzGh",
        "colab_type": "code",
        "outputId": "58bfca97-d12d-4b5e-a0b1-857b646acdcd",
        "colab": {
          "base_uri": "https://localhost:8080/",
          "height": 34
        }
      },
      "cell_type": "code",
      "source": [
        "!pip install dlib"
      ],
      "execution_count": 0,
      "outputs": [
        {
          "output_type": "stream",
          "text": [
            "Requirement already satisfied: dlib in /usr/local/lib/python3.6/dist-packages (19.16.0)\n"
          ],
          "name": "stdout"
        }
      ]
    },
    {
      "metadata": {
        "id": "G1BnsGO6k88R",
        "colab_type": "code",
        "outputId": "907d7e90-70e6-4896-c637-569ff2977f25",
        "colab": {
          "base_uri": "https://localhost:8080/",
          "height": 527
        }
      },
      "cell_type": "code",
      "source": [
        "!pip install face_recognition"
      ],
      "execution_count": 2,
      "outputs": [
        {
          "output_type": "stream",
          "text": [
            "Collecting face_recognition\n",
            "  Using cached https://files.pythonhosted.org/packages/3f/ed/ad9a28042f373d4633fc8b49109b623597d6f193d3bbbef7780a5ee8eef2/face_recognition-1.2.3-py2.py3-none-any.whl\n",
            "Collecting dlib>=19.7 (from face_recognition)\n",
            "  Using cached https://files.pythonhosted.org/packages/35/8d/e4ddf60452e2fb1ce3164f774e68968b3f110f1cb4cd353235d56875799e/dlib-19.16.0.tar.gz\n",
            "Collecting face-recognition-models>=0.3.0 (from face_recognition)\n",
            "Requirement already satisfied: numpy in c:\\users\\hp\\anaconda3\\lib\\site-packages (from face_recognition) (1.15.4)\n",
            "Requirement already satisfied: Click>=6.0 in c:\\users\\hp\\anaconda3\\lib\\site-packages (from face_recognition) (6.7)\n",
            "Requirement already satisfied: Pillow in c:\\users\\hp\\anaconda3\\lib\\site-packages (from face_recognition) (5.2.0)\n",
            "Building wheels for collected packages: dlib\n",
            "  Running setup.py bdist_wheel for dlib: started\n",
            "  Running setup.py bdist_wheel for dlib: still running...\n",
            "  Running setup.py bdist_wheel for dlib: still running...\n",
            "  Running setup.py bdist_wheel for dlib: still running...\n",
            "  Running setup.py bdist_wheel for dlib: still running...\n",
            "  Running setup.py bdist_wheel for dlib: still running...\n",
            "  Running setup.py bdist_wheel for dlib: still running...\n",
            "  Running setup.py bdist_wheel for dlib: still running...\n",
            "  Running setup.py bdist_wheel for dlib: still running...\n",
            "  Running setup.py bdist_wheel for dlib: still running...\n",
            "  Running setup.py bdist_wheel for dlib: still running...\n",
            "  Running setup.py bdist_wheel for dlib: still running...\n",
            "  Running setup.py bdist_wheel for dlib: finished with status 'done'\n",
            "  Stored in directory: C:\\Users\\HP\\AppData\\Local\\pip\\Cache\\wheels\\ce\\f9\\bc\\1c51cd0b40a2b5dfd46ab79a73832b41e7c3aa918a508154f0\n",
            "Successfully built dlib\n",
            "Installing collected packages: dlib, face-recognition-models, face-recognition\n",
            "Successfully installed dlib-19.16.0 face-recognition-1.2.3 face-recognition-models-0.3.0\n"
          ],
          "name": "stdout"
        },
        {
          "output_type": "stream",
          "text": [
            "twisted 18.7.0 requires PyHamcrest>=1.9.0, which is not installed.\n",
            "torchvision 0.2.1 requires torch, which is not installed.\n",
            "You are using pip version 10.0.1, however version 18.1 is available.\n",
            "You should consider upgrading via the 'python -m pip install --upgrade pip' command.\n"
          ],
          "name": "stderr"
        }
      ]
    },
    {
      "metadata": {
        "id": "oxZrVWImlgF3",
        "colab_type": "code",
        "outputId": "ee86a169-a06e-4dfa-b4e5-4cf0d4d3e76a",
        "colab": {
          "base_uri": "https://localhost:8080/",
          "height": 51
        }
      },
      "cell_type": "code",
      "source": [
        "!wget https://raw.githubusercontent.com/opencv/opencv/master/data/haarcascades/haarcascade_frontalface_default.xml"
      ],
      "execution_count": 11,
      "outputs": [
        {
          "output_type": "stream",
          "text": [
            "'wget' is not recognized as an internal or external command,\n",
            "operable program or batch file.\n"
          ],
          "name": "stderr"
        }
      ]
    },
    {
      "metadata": {
        "id": "jTb2pp7KlEQM",
        "colab_type": "code",
        "colab": {}
      },
      "cell_type": "code",
      "source": [
        "import numpy as np\n",
        "import matplotlib.pyplot as plt\n",
        "import face_recognition\n",
        "import cv2 #OpenCV\n",
        "from os import listdir"
      ],
      "execution_count": 0,
      "outputs": []
    },
    {
      "metadata": {
        "id": "kJ045LFNlMq6",
        "colab_type": "code",
        "colab": {}
      },
      "cell_type": "code",
      "source": [
        "facecascade = cv2.CascadeClassifier('E:/haarcascade_frontalface_default.xml')"
      ],
      "execution_count": 0,
      "outputs": []
    },
    {
      "metadata": {
        "id": "KnFgFtwd2Kwz",
        "colab_type": "code",
        "colab": {}
      },
      "cell_type": "code",
      "source": [
        "import matplotlib.pyplot as plt\n"
      ],
      "execution_count": 0,
      "outputs": []
    },
    {
      "metadata": {
        "id": "ulsHLxv-2QCR",
        "colab_type": "code",
        "colab": {
          "base_uri": "https://localhost:8080/",
          "height": 34
        },
        "outputId": "56ee06a7-892b-41b4-b6d4-388d66217deb"
      },
      "cell_type": "code",
      "source": [
        "#put your employee pictures in this path as name_of_employee.jpg\n",
        "employee_pictures = \"E:/photosdataset\"\n",
        "\n",
        "employees = dict()\n",
        "known_face_encodings =[]\n",
        "known_face_names =[]\n",
        "\n",
        "for file in listdir(employee_pictures):\n",
        "    employee, extension = file.split(\".\")\n",
        "    img = face_recognition.load_image_file('E:\\photosdataset\\%s.jpg' % (employee))\n",
        "    img_encoding = face_recognition.face_encodings(img)[0]\n",
        "    known_face_encodings.append(img_encoding)\n",
        "    known_face_names.append(employee)\n",
        "    \n",
        "print(\"employee representations retrieved successfully\")"
      ],
      "execution_count": 59,
      "outputs": [
        {
          "output_type": "stream",
          "text": [
            "employee representations retrieved successfully\n"
          ],
          "name": "stdout"
        }
      ]
    },
    {
      "metadata": {
        "id": "HnTkqP5_Ahov",
        "colab_type": "code",
        "colab": {}
      },
      "cell_type": "code",
      "source": [
        "# Initialize some variables\n",
        "face_locations = []\n",
        "face_encodings = []\n",
        "face_names = []\n",
        "process_this_frame = True\n",
        "video_capture = cv2.VideoCapture(0)\n",
        "while True:\n",
        "    # Grab a single frame of video\n",
        "    ret, frame = video_capture.read()\n",
        "\n",
        "    # Convert the image from BGR color (which OpenCV uses) to RGB color (which face_recognition uses)\n",
        "    rgb_frame = frame[:, :, ::-1]\n",
        "\n",
        "    # Find all the faces and face enqcodings in the frame of video\n",
        "    face_locations = face_recognition.face_locations(rgb_frame)\n",
        "    face_encodings = face_recognition.face_encodings(rgb_frame, face_locations)\n",
        "\n",
        "    # Loop through each face in this frame of video\n",
        "    for (top, right, bottom, left), face_encoding in zip(face_locations, face_encodings):\n",
        "        # See if the face is a match for the known face(s)\n",
        "        matches = face_recognition.compare_faces(known_face_encodings, face_encoding)\n",
        "\n",
        "        name = \"Unknown\"\n",
        "\n",
        "        # If a match was found in known_face_encodings, just use the first one.\n",
        "        if True in matches:\n",
        "            first_match_index = matches.index(True)\n",
        "            name = known_face_names[first_match_index]\n",
        "\n",
        "        # Draw a box around the face\n",
        "        cv2.rectangle(frame, (left, top), (right, bottom), (0, 0, 255), 2)\n",
        "\n",
        "        # Draw a label with a name below the face\n",
        "        cv2.rectangle(frame, (left, bottom - 35), (right, bottom), (0, 0, 255), cv2.FILLED)\n",
        "        font = cv2.FONT_HERSHEY_DUPLEX\n",
        "        cv2.putText(frame, name, (left + 6, bottom - 6), font, 1.0, (255, 255, 255), 1)\n",
        "\n",
        "    # Display the resulting image\n",
        "    cv2.imshow('Video', frame)\n",
        "\n",
        "    # Hit 'q' on the keyboard to quit!\n",
        "    if cv2.waitKey(1) & 0xFF == ord('q'):\n",
        "        break\n",
        "\n",
        "# Release handle to the webcam\n",
        "video_capture.release()\n",
        "cv2.destroyAllWindows()"
      ],
      "execution_count": 0,
      "outputs": []
    }
  ]
}